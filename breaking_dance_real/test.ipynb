{
 "cells": [
  {
   "cell_type": "code",
   "execution_count": null,
   "metadata": {},
   "outputs": [],
   "source": [
    "import cv2\n",
    "import numpy as np\n",
    "import json\n",
    "import os\n",
    "from pathlib import Path"
   ]
  },
  {
   "cell_type": "code",
   "execution_count": null,
   "metadata": {},
   "outputs": [],
   "source": [
    "dataset_path = \"/media/notingcode/Data/Projects/gaussian-splatting/8cam/breaking_dance_real/images\"\n",
    "undistort_destination_path = \"/media/notingcode/Data/Projects/gaussian-splatting/8cam/breaking_dance_real/undistorted\"\n",
    "params_json_path = \"/media/notingcode/Data/Projects/gaussian-splatting/8cam/cam_params.json\""
   ]
  },
  {
   "cell_type": "code",
   "execution_count": null,
   "metadata": {},
   "outputs": [],
   "source": [
    "dataset_subdirs = os.listdir(dataset_path)"
   ]
  },
  {
   "cell_type": "code",
   "execution_count": null,
   "metadata": {},
   "outputs": [],
   "source": [
    "camera_params = json.load(open(params_json_path))"
   ]
  },
  {
   "cell_type": "code",
   "execution_count": null,
   "metadata": {},
   "outputs": [],
   "source": [
    "for subdir in dataset_subdirs:\n",
    "    subdir_idx = int(subdir.replace(\"cam\",\"\"))\n",
    "    subdir_absolute_path = Path(os.path.join(dataset_path,subdir))\n",
    "    images_dir_sorted = sorted([image_path for image_path in subdir_absolute_path.glob(\"*.jpg\")])\n",
    "    \n",
    "    camera_name = None\n",
    "    \n",
    "    for key in camera_params.keys():\n",
    "        if str(subdir_idx) in key:\n",
    "            camera_name = key\n",
    "    \n",
    "    for image_dir in images_dir_sorted:\n",
    "        img = cv2.imread(image_dir.as_posix())\n",
    "        h,w = img.shape[:2]\n",
    "        \n",
    "        intrinsic = np.array(camera_params[camera_name]['in'])\n",
    "        distortion = np.array(camera_params[camera_name]['dist'])\n",
    "        \n",
    "        newcameramtx, roi = cv2.getOptimalNewCameraMatrix(intrinsic, distortion, (w,h), 1, (w,h))\n",
    "        \n",
    "        dst = cv2.undistort(img, intrinsic, distortion, None, newcameramtx)\n",
    "        \n",
    "        x,y,w,h = roi\n",
    "        \n",
    "        dst = dst[y:y+h, x:x+w]\n",
    "        \n",
    "        cv2.imwrite(os.path.join(undistort_destination_path, image_dir.name), dst)"
   ]
  },
  {
   "cell_type": "code",
   "execution_count": null,
   "metadata": {},
   "outputs": [],
   "source": []
  }
 ],
 "metadata": {
  "kernelspec": {
   "display_name": "splat",
   "language": "python",
   "name": "python3"
  },
  "language_info": {
   "codemirror_mode": {
    "name": "ipython",
    "version": 3
   },
   "file_extension": ".py",
   "mimetype": "text/x-python",
   "name": "python",
   "nbconvert_exporter": "python",
   "pygments_lexer": "ipython3",
   "version": "3.8.18"
  }
 },
 "nbformat": 4,
 "nbformat_minor": 2
}
