{
 "cells": [
  {
   "cell_type": "code",
   "execution_count": 1,
   "metadata": {},
   "outputs": [],
   "source": [
    "import numpy as np\n",
    "import cv2 as cv\n",
    "import matplotlib.pyplot as plt"
   ]
  },
  {
   "cell_type": "code",
   "execution_count": 2,
   "metadata": {},
   "outputs": [
    {
     "data": {
      "text/plain": [
       "True"
      ]
     },
     "execution_count": 2,
     "metadata": {},
     "output_type": "execute_result"
    }
   ],
   "source": [
    "img1 = cv.imread('./input/0/611269920_0.jpg',cv.IMREAD_GRAYSCALE)\n",
    "img2 = cv.imread('./input/1/611269920_1.jpg',cv.IMREAD_GRAYSCALE)\n",
    "# Initiate SIFT detector\n",
    "sift = cv.SIFT_create(nfeatures=5000, contrastThreshold=0.00001, edgeThreshold=10)\n",
    "# find the keypoints and descriptors with SIFT\n",
    "kp1, des1 = sift.detectAndCompute(img1,None)\n",
    "kp2, des2 = sift.detectAndCompute(img2,None)\n",
    "# BFMatcher with default params\n",
    "bf = cv.BFMatcher()\n",
    "matches = bf.knnMatch(des1,des2,k=2)\n",
    "# Apply ratio test\n",
    "good = []\n",
    "for m,n in matches:\n",
    "    if m.distance < 0.75*n.distance:\n",
    "        good.append([m])\n",
    "# cv.drawMatchesKnn expects list of lists as matches.\n",
    "img3 = cv.drawMatchesKnn(img1,kp1,img2,kp2,good,None,flags=cv.DrawMatchesFlags_NOT_DRAW_SINGLE_POINTS)\n",
    "cv.imwrite('./test.jpg', img3)"
   ]
  },
  {
   "cell_type": "code",
   "execution_count": 3,
   "metadata": {},
   "outputs": [
    {
     "data": {
      "text/plain": [
       "True"
      ]
     },
     "execution_count": 3,
     "metadata": {},
     "output_type": "execute_result"
    }
   ],
   "source": [
    "sift_detector = cv.SIFT_create(nfeatures=5000, nOctaveLayers=10, edgeThreshold=100, enable_precise_upscale=True)  # SIFT with increased number of features\n",
    "orb_detector = cv.ORB_create(nfeatures=5000)    # ORB with increased number of features\n",
    "akaze_detector = cv.AKAZE_create()              # AKAZE with default settings\n",
    "\n",
    "# Function to detect and draw keypoints using different detectors\n",
    "def detect_features(image, detector):\n",
    "    keypoints, des = detector.detectAndCompute(image, None)\n",
    "    keypoint_image = cv.drawKeypoints(image, keypoints, None, flags=cv.DRAW_MATCHES_FLAGS_DRAW_RICH_KEYPOINTS)\n",
    "    return keypoint_image, keypoints, des\n",
    "\n",
    "# Detect features using SIFT\n",
    "sift_keypoint_image1, sift_keypoints1, sift_des1 = detect_features(img1, sift_detector)\n",
    "sift_keypoint_image2, sift_keypoints2, sift_des2 = detect_features(img2, sift_detector)\n",
    "\n",
    "# Detect features using ORB\n",
    "orb_keypoint_image1, orb_keypoints1, orb_des1 = detect_features(img1, orb_detector)\n",
    "orb_keypoint_image2, orb_keypoints2, orb_des2 = detect_features(img2, orb_detector)\n",
    "\n",
    "# Detect features using AKAZE\n",
    "akaze_keypoint_image1, akaze_keypoints1, _ = detect_features(img1, akaze_detector)\n",
    "akaze_keypoint_image2, akaze_keypoints2, _ = detect_features(img2, akaze_detector)\n",
    "\n",
    "# Save the images with keypoints detected by different detectors\n",
    "sift_output_path1 = './sift_keypoints1.jpg'\n",
    "cv.imwrite(sift_output_path1, sift_keypoint_image1)\n",
    "sift_output_path2 = './sift_keypoints2.jpg'\n",
    "cv.imwrite(sift_output_path2, sift_keypoint_image2)\n",
    "\n",
    "orb_output_path1 = './orb_keypoints1.jpg'\n",
    "cv.imwrite(orb_output_path1, orb_keypoint_image1)\n",
    "orb_output_path2 = './orb_keypoints2.jpg'\n",
    "cv.imwrite(orb_output_path2, orb_keypoint_image2)\n",
    "\n",
    "akaze_output_path1 = './akaze_keypoints1.jpg'\n",
    "cv.imwrite(akaze_output_path1, akaze_keypoint_image1)\n",
    "akaze_output_path2 = './akaze_keypoints2.jpg'\n",
    "cv.imwrite(akaze_output_path2, akaze_keypoint_image2)"
   ]
  },
  {
   "cell_type": "code",
   "execution_count": 4,
   "metadata": {},
   "outputs": [],
   "source": [
    "bf = cv.BFMatcher()\n",
    "\n",
    "matches = bf.knnMatch(sift_des1, sift_des2, k=2)\n",
    "# Sort them in the order of their distance.\n",
    "\n",
    "good = []\n",
    "for m,n in matches:\n",
    "    if m.distance < 0.8*n.distance:\n",
    "        good.append([m])\n",
    "# cv.drawMatchesKnn expects list of lists as matches.\n",
    "img3 = cv.drawMatchesKnn(img1,sift_keypoints1,img2,sift_keypoints2,good,None,flags=cv.DrawMatchesFlags_NOT_DRAW_SINGLE_POINTS)"
   ]
  },
  {
   "cell_type": "code",
   "execution_count": 5,
   "metadata": {},
   "outputs": [
    {
     "data": {
      "text/plain": [
       "True"
      ]
     },
     "execution_count": 5,
     "metadata": {},
     "output_type": "execute_result"
    }
   ],
   "source": [
    "cv.imwrite(\"./test.jpg\", img3)"
   ]
  },
  {
   "cell_type": "code",
   "execution_count": 6,
   "metadata": {},
   "outputs": [
    {
     "data": {
      "text/plain": [
       "True"
      ]
     },
     "execution_count": 6,
     "metadata": {},
     "output_type": "execute_result"
    }
   ],
   "source": [
    "bf = cv.BFMatcher(cv.NORM_HAMMING, crossCheck=True)\n",
    "# Match descriptors.\n",
    "matches = bf.match(orb_des1,orb_des2)\n",
    "# Sort them in the order of their distance.\n",
    "matches = sorted(matches, key = lambda x:x.distance)\n",
    "# Draw first 10 matches.\n",
    "img4 = cv.drawMatches(img1,orb_keypoints1,img2,orb_keypoints2,matches[:10],None,flags=cv.DrawMatchesFlags_NOT_DRAW_SINGLE_POINTS)\n",
    "\n",
    "cv.imwrite(\"./test2.jpg\",img4)"
   ]
  },
  {
   "cell_type": "code",
   "execution_count": 7,
   "metadata": {},
   "outputs": [
    {
     "data": {
      "text/plain": [
       "True"
      ]
     },
     "execution_count": 7,
     "metadata": {},
     "output_type": "execute_result"
    }
   ],
   "source": [
    "# FLANN parameters\n",
    "FLANN_INDEX_KDTREE = 1\n",
    "index_params = dict(algorithm = FLANN_INDEX_KDTREE, trees = 5)\n",
    "search_params = dict(checks=50)   # or pass empty dictionary\n",
    "flann = cv.FlannBasedMatcher(index_params,search_params)\n",
    "matches = flann.knnMatch(sift_des1,sift_des2,k=2)\n",
    "# Need to draw only good matches, so create a mask\n",
    "matchesMask = [[0,0] for i in range(len(matches))]\n",
    "# ratio test as per Lowe's paper\n",
    "for i,(m,n) in enumerate(matches):\n",
    "    if m.distance < 0.8*n.distance:\n",
    "        matchesMask[i]=[1,0]\n",
    "draw_params = dict(matchColor = (0,255,0),\n",
    "                   singlePointColor = (255,0,0),\n",
    "                   matchesMask = matchesMask,\n",
    "                   flags = cv.DrawMatchesFlags_DEFAULT)\n",
    "img5 = cv.drawMatchesKnn(img1,sift_keypoints1,img2,sift_keypoints2,matches,None,**draw_params)\n",
    "\n",
    "cv.imwrite(\"./test3.jpg\", img5)"
   ]
  },
  {
   "cell_type": "code",
   "execution_count": null,
   "metadata": {},
   "outputs": [],
   "source": []
  }
 ],
 "metadata": {
  "kernelspec": {
   "display_name": "splat",
   "language": "python",
   "name": "python3"
  },
  "language_info": {
   "codemirror_mode": {
    "name": "ipython",
    "version": 3
   },
   "file_extension": ".py",
   "mimetype": "text/x-python",
   "name": "python",
   "nbconvert_exporter": "python",
   "pygments_lexer": "ipython3",
   "version": "3.8.18"
  }
 },
 "nbformat": 4,
 "nbformat_minor": 2
}
