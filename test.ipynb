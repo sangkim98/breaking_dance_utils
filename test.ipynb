{
 "cells": [
  {
   "cell_type": "code",
   "execution_count": 1,
   "metadata": {},
   "outputs": [],
   "source": [
    "import utils"
   ]
  },
  {
   "cell_type": "code",
   "execution_count": 3,
   "metadata": {},
   "outputs": [
    {
     "ename": "KeyError",
     "evalue": "'extrinsic'",
     "output_type": "error",
     "traceback": [
      "\u001b[0;31m---------------------------------------------------------------------------\u001b[0m",
      "\u001b[0;31mKeyError\u001b[0m                                  Traceback (most recent call last)",
      "Cell \u001b[0;32mIn[3], line 1\u001b[0m\n\u001b[0;32m----> 1\u001b[0m \u001b[43mutils\u001b[49m\u001b[38;5;241;43m.\u001b[39;49m\u001b[43mcreate_txt_dependencies\u001b[49m\u001b[43m(\u001b[49m\u001b[38;5;124;43m\"\u001b[39;49m\u001b[38;5;124;43m/media/notingcode/Data/Projects/gaussian-splatting/8cam/breaking_dance_real/images\u001b[39;49m\u001b[38;5;124;43m\"\u001b[39;49m\u001b[43m,\u001b[49m\n\u001b[1;32m      2\u001b[0m \u001b[43m                              \u001b[49m\u001b[38;5;124;43m\"\u001b[39;49m\u001b[38;5;124;43m/media/notingcode/Data/Projects/gaussian-splatting/8cam/cam_params.json\u001b[39;49m\u001b[38;5;124;43m\"\u001b[39;49m\u001b[43m,\u001b[49m\n\u001b[1;32m      3\u001b[0m \u001b[43m                              \u001b[49m\u001b[38;5;124;43m\"\u001b[39;49m\u001b[38;5;124;43mintrinsic\u001b[39;49m\u001b[38;5;124;43m\"\u001b[39;49m\u001b[43m,\u001b[49m\n\u001b[1;32m      4\u001b[0m \u001b[43m                              \u001b[49m\u001b[38;5;124;43m\"\u001b[39;49m\u001b[38;5;124;43mextrinsic\u001b[39;49m\u001b[38;5;124;43m\"\u001b[39;49m\u001b[43m,\u001b[49m\n\u001b[1;32m      5\u001b[0m \u001b[43m                              \u001b[49m\u001b[38;5;28;43;01mNone\u001b[39;49;00m\u001b[43m)\u001b[49m\n",
      "File \u001b[0;32m/media/notingcode/Data/Projects/gaussian-splatting/8cam/utils.py:52\u001b[0m, in \u001b[0;36mcreate_txt_dependencies\u001b[0;34m(image_datasetPath, cameras_parametersPath, intrinsic_key_name, extrinsic_key_name, distortion_key_name)\u001b[0m\n\u001b[1;32m     49\u001b[0m images_subdirs \u001b[38;5;241m=\u001b[39m \u001b[38;5;28msorted\u001b[39m([image_subdir \u001b[38;5;28;01mfor\u001b[39;00m image_subdir \u001b[38;5;129;01min\u001b[39;00m image_datasetPath\u001b[38;5;241m.\u001b[39miterdir()])\n\u001b[1;32m     51\u001b[0m \u001b[38;5;28;01mfor\u001b[39;00m cameraID, params \u001b[38;5;129;01min\u001b[39;00m cameras_params\u001b[38;5;241m.\u001b[39mitems():\n\u001b[0;32m---> 52\u001b[0m     parameters_stored[cameraID] \u001b[38;5;241m=\u001b[39m conversion\u001b[38;5;241m.\u001b[39mextrinsic_to_colmap_form(\u001b[43mparams\u001b[49m\u001b[43m[\u001b[49m\u001b[43mextrinsic_key_name\u001b[49m\u001b[43m]\u001b[49m, \u001b[38;5;28;01mTrue\u001b[39;00m)\n\u001b[1;32m     54\u001b[0m img_idx \u001b[38;5;241m=\u001b[39m \u001b[38;5;241m1\u001b[39m\n\u001b[1;32m     56\u001b[0m \u001b[38;5;28;01mfor\u001b[39;00m image_subdir \u001b[38;5;129;01min\u001b[39;00m images_subdirs:\n",
      "\u001b[0;31mKeyError\u001b[0m: 'extrinsic'"
     ]
    }
   ],
   "source": [
    "utils.create_txt_dependencies(\"/media/notingcode/Data/Projects/gaussian-splatting/8cam/breaking_dance_real/images\",\n",
    "                              \"/media/notingcode/Data/Projects/gaussian-splatting/8cam/cam_params.json\",\n",
    "                              \"intrinsic\",\n",
    "                              \"extrinsic\",\n",
    "                              None)"
   ]
  },
  {
   "cell_type": "code",
   "execution_count": 1,
   "metadata": {},
   "outputs": [],
   "source": [
    "import json\n",
    "import numpy as np"
   ]
  },
  {
   "cell_type": "code",
   "execution_count": 2,
   "metadata": {},
   "outputs": [],
   "source": [
    "# np.set_printoptions(suppress=True, formatter={'all': lambda x : str(x)})"
   ]
  },
  {
   "cell_type": "code",
   "execution_count": 3,
   "metadata": {},
   "outputs": [],
   "source": [
    "camera_params = json.load(open('./cam_params.json'))"
   ]
  },
  {
   "cell_type": "code",
   "execution_count": 4,
   "metadata": {},
   "outputs": [],
   "source": [
    "output_file = open(\"./output.txt\", '+w')"
   ]
  },
  {
   "cell_type": "code",
   "execution_count": 6,
   "metadata": {},
   "outputs": [
    {
     "name": "stdout",
     "output_type": "stream",
     "text": [
      "-----cam 7-----\n",
      "(ex) : [1. 0. 0. 0. 0. 1. 0. 0. 0. 0. 1. 0. 0. 0. 0. 1.]\n",
      "<f>1183.817294613617</f>\n",
      "<cx>225.09957626827622</cx>\n",
      "<cy>603.2992129169244</cy>\n",
      "<k1>-0.2321208836567054</k1>\n",
      "<k2>0.1036925937027809</k2>\n",
      "<k3>-0.02646937367634598</k3>\n",
      "<p1>0.001644967797003794</p1>\n",
      "<p2>-0.001119429314475384</p2>\n",
      "-----cam 3-----\n",
      "(ex) : [ 0.693607 -0.301773  0.654096 -2.54745   0.311505  0.944383  0.105378\n",
      " -0.432022 -0.649518  0.130663  0.749035  0.885521  0.        0.\n",
      "  0.        1.      ]\n",
      "<f>1192.870905315203</f>\n",
      "<cx>251.8053761306378</cx>\n",
      "<cy>616.1869499669016</cy>\n",
      "<k1>-0.2357412976764199</k1>\n",
      "<k2>0.1035429103172785</k2>\n",
      "<k3>-0.02582181396225221</k3>\n",
      "<p1>0.000714221998011988</p1>\n",
      "<p2>0.0001266418566488787</p2>\n",
      "-----cam 4-----\n",
      "(ex) : [ 0.024577 -0.419617  0.907368 -3.1863    0.418449  0.828623  0.371867\n",
      " -1.53112  -0.907908  0.370548  0.195954  3.20565   0.        0.\n",
      "  0.        1.      ]\n",
      "<f>1193.212770286181</f>\n",
      "<cx>247.53630953345805</cx>\n",
      "<cy>630.4061335898768</cy>\n",
      "<k1>-0.2403002376931219</k1>\n",
      "<k2>0.1125385592201167</k2>\n",
      "<k3>-0.03018973662465711</k3>\n",
      "<p1>0.0005117705754679151</p1>\n",
      "<p2>7.088720267483178e-05</p2>\n",
      "-----cam 6-----\n",
      "(ex) : [-0.819873 -0.243124  0.518362 -2.47174   0.260269  0.64815   0.715655\n",
      " -2.71296  -0.509969  0.72166  -0.468123  5.62114   0.        0.\n",
      "  0.        1.      ]\n",
      "<f>1184.613765141608</f>\n",
      "<cx>189.92029435254813</cx>\n",
      "<cy>576.9515616202392</cy>\n",
      "<k1>-0.2347749174187936</k1>\n",
      "<k2>0.1042501283467381</k2>\n",
      "<k3>-0.02606041627053337</k3>\n",
      "<p1>0.0005614368733162128</p1>\n",
      "<p2>-1.392074720872159e-05</p2>\n",
      "-----cam 5-----\n",
      "(ex) : [-9.99631e-01 -4.26322e-03 -2.68388e-02 -2.71563e-01 -2.39478e-02\n",
      "  6.05018e-01  7.95851e-01 -3.03150e+00  1.28451e-02  7.96200e-01\n",
      " -6.04897e-01  6.29390e+00  0.00000e+00  0.00000e+00  0.00000e+00\n",
      "  1.00000e+00]\n",
      "<f>1185.901531980864</f>\n",
      "<cx>204.11412782230184</cx>\n",
      "<cy>600.1264876637325</cy>\n",
      "<k1>-0.2382875188340224</k1>\n",
      "<k2>0.1112216238841532</k2>\n",
      "<k3>-0.03074112859937883</k3>\n",
      "<p1>0.000349971817537549</p1>\n",
      "<p2>-0.001057306244384439</p2>\n",
      "-----cam 2-----\n",
      "(ex) : [-0.841102  0.216087 -0.495836  2.03443  -0.265508  0.633723  0.726568\n",
      " -2.68608   0.471225  0.742766 -0.475653  5.56402   0.        0.\n",
      "  0.        1.      ]\n",
      "<f>1205.2323736126154</f>\n",
      "<cx>248.42070242892407</cx>\n",
      "<cy>634.6068399349228</cy>\n",
      "<k1>-0.2418368840414951</k1>\n",
      "<k2>0.111067857500548</k2>\n",
      "<k3>-0.02934319459283831</k3>\n",
      "<p1>0.0004967518289627314</p1>\n",
      "<p2>-0.0007039708719082943</p2>\n",
      "-----cam 1-----\n",
      "(ex) : [-0.00478404  0.420684   -0.907194    3.59344    -0.418343    0.82316\n",
      "  0.383922   -1.63525     0.908276    0.381355    0.172053    3.32867\n",
      "  0.          0.          0.          1.        ]\n",
      "<f>1169.902925555084</f>\n",
      "<cx>187.20038406740105</cx>\n",
      "<cy>599.9674175534528</cy>\n",
      "<k1>-0.2295328565699062</k1>\n",
      "<k2>0.1028035661356489</k2>\n",
      "<k3>-0.02683874519063208</k3>\n",
      "<p1>0.002013031988510865</p1>\n",
      "<p2>-0.001723157037543028</p2>\n",
      "-----cam 0-----\n",
      "(ex) : [ 0.603734  0.325894 -0.727529  2.66016  -0.356293  0.926708  0.119449\n",
      " -0.384858  0.713134  0.187098  0.675599  0.824432  0.        0.\n",
      "  0.        1.      ]\n",
      "<f>1211.8314806241106</f>\n",
      "<cx>248.11287601584945</cx>\n",
      "<cy>649.8363738547297</cy>\n",
      "<k1>-0.2457915213691968</k1>\n",
      "<k2>0.1108568072887201</k2>\n",
      "<k3>-0.02795896285869855</k3>\n",
      "<p1>0.001064729929008372</p1>\n",
      "<p2>5.547803568277451e-05</p2>\n"
     ]
    }
   ],
   "source": [
    "for camID, params in camera_params.items():\n",
    "    print(f\"-----{camID}-----\")\n",
    "    print(f\"(ex) : {np.array(params['ex']).flatten()}\")\n",
    "    intrinsic = np.array(params['in'])\n",
    "    distortion = np.array(params['dist'])\n",
    "    focal_len, cx, cy = (intrinsic[0,0]+intrinsic[1,1])/2, intrinsic[0,2], intrinsic[1,2]\n",
    "    k1, k2, k3, p1, p2 = np.concatenate([distortion[:2], [distortion[-1]], distortion[2:-1]])\n",
    "    print(f\"<f>{focal_len}</f>\\n<cx>{focal_len-cx}</cx>\\n<cy>{focal_len-cy}</cy>\\n<k1>{k1}</k1>\\n<k2>{k2}</k2>\\n<k3>{k3}</k3>\\n<p1>{p1}</p1>\\n<p2>{p2}</p2>\")"
   ]
  },
  {
   "cell_type": "code",
   "execution_count": null,
   "metadata": {},
   "outputs": [],
   "source": []
  }
 ],
 "metadata": {
  "kernelspec": {
   "display_name": "splat",
   "language": "python",
   "name": "python3"
  },
  "language_info": {
   "codemirror_mode": {
    "name": "ipython",
    "version": 3
   },
   "file_extension": ".py",
   "mimetype": "text/x-python",
   "name": "python",
   "nbconvert_exporter": "python",
   "pygments_lexer": "ipython3",
   "version": "3.11.5"
  }
 },
 "nbformat": 4,
 "nbformat_minor": 2
}
